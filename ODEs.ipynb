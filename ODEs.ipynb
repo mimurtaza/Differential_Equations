{
 "metadata": {
  "name": "",
  "signature": "sha256:f5841fc0c1012d7d75adda74928396c51050da0f4dcaa37c596bedebf6516288"
 },
 "nbformat": 3,
 "nbformat_minor": 0,
 "worksheets": [
  {
   "cells": [
    {
     "cell_type": "heading",
     "level": 1,
     "metadata": {},
     "source": [
      "Numerical Solution of First Order ODEs"
     ]
    },
    {
     "cell_type": "markdown",
     "metadata": {},
     "source": [
      "A first order ordinary differential equation is of the form $F(x,y,y\u2019)=0$ which can also be written as $y\u2019=f(x,y)$. The initial value problem for this equation is of the form\n",
      "\n",
      "$y\u2019=f(x,y), \ty(x_0)=y_0$"
     ]
    },
    {
     "cell_type": "heading",
     "level": 2,
     "metadata": {},
     "source": [
      "Euler Method"
     ]
    },
    {
     "cell_type": "markdown",
     "metadata": {},
     "source": [
      "The first method of solving this equation, Euler method or the Euler-Cauchy method, is based on the Taylor series. It is a crude method that approximates the curve of y(x) by a line tangent to the curve at $x_0$. \n",
      "\n",
      "$y(x+h) = y(x) + hy\u2019(x) + \\frac{1}{2} h^2 y\u2019\u2019(\\zeta)$\n",
      "\n",
      "where $x\\leq\\zeta\\leq (x+h)$.\n",
      "\n",
      "Therefore the local truncation error, i.e. error in each step is of the order, $O(h^2)$. The number of steps required is proportional to $\\frac{1}{h}$. Therefore, the global error is proportional to h. Therefore, this is a first-order method."
     ]
    },
    {
     "cell_type": "heading",
     "level": 2,
     "metadata": {},
     "source": [
      "Improved Euler Method"
     ]
    },
    {
     "cell_type": "markdown",
     "metadata": {},
     "source": [
      "The method can be improved by taking into account higher order terms. But then this requires calculation of higher order derivatives which is numerically cumbersome. Therefore, a predictor-corrector approach is used. This means that a predictive value is calculated first as:\n",
      "\n",
      "$y^*_{n+1} = y_n + hf(x_n,y_n)$\n",
      "\n",
      "Then a new corrective value is calculated as:\n",
      "\n",
      "$y_{n+1}=y_n + \\frac{1}{2}h[f(x_n,y_n)+f(x_n+1,y^*_n+1)]$\n",
      "\n",
      "The local error of the improved Euler method is $h^3$ and the global error is of the order $h^2$, so the method is a second-order method. The improved Euler method is also called Heun method."
     ]
    },
    {
     "cell_type": "heading",
     "level": 2,
     "metadata": {},
     "source": [
      "Classical Runge-Kutta Method"
     ]
    },
    {
     "cell_type": "markdown",
     "metadata": {},
     "source": [
      "Practically Euler methods are not used due to low accuracy and precision. Instead the classical Runge-Kutta method of the fourth order is a popular choice. The method is named after German mathematicians Karl Runge and Wilhelm Kutta. It involves calculating four auxiliary k's before calculating y.\n",
      "\n",
      "$k_1=hf(x_n,y_n)$\n",
      "\n",
      "$k_2=hf(x_n + \\frac{h}{2} , y_n + \\frac{k_1}{2})$\n",
      "\n",
      "$k_3=hf(x_n + \\frac{h}{2} , y_n + \\frac{k_1}{2})$\n",
      "\n",
      "$k_4=hf(x_n + h , y_n + k_3)$\n",
      "\n",
      "$x_{n+1}=x_n + h$\n",
      "\n",
      "$y_{n+1}=y_n+\\frac{1}{6}(k_1+2k_2+2k_3+k_4)$"
     ]
    },
    {
     "cell_type": "heading",
     "level": 2,
     "metadata": {},
     "source": [
      "Python Implementation of Euler Method"
     ]
    },
    {
     "cell_type": "markdown",
     "metadata": {},
     "source": [
      "Initial Value Problem\n",
      "\n",
      "$y'=x+y, y(0)=0$\n",
      "\n",
      "Solve the equation in the domain $0\\leq x \\leq 1$"
     ]
    },
    {
     "cell_type": "code",
     "collapsed": false,
     "input": [
      "import numpy as np\n",
      "import matplotlib.pyplot as plt\n",
      "\n",
      "h=0.1                  #Step Size\n",
      "x0=0.                  #Initial value of x\n",
      "x1=1.                  #Final value of x\n",
      "y0=0.                  #initial condition"
     ],
     "language": "python",
     "metadata": {},
     "outputs": [],
     "prompt_number": 244
    },
    {
     "cell_type": "markdown",
     "metadata": {},
     "source": [
      "First of all we need the numpy library for function linspace that creates a vector of x between $x_0$ and $x_1$ with step size h. Then the required parameters are defined. We need a Python function to define f."
     ]
    },
    {
     "cell_type": "code",
     "collapsed": false,
     "input": [
      "def f(x,y):\n",
      "    #y'=f(x,y)\n",
      "    #This function returns the value of f at x,y\n",
      "    return x+2*y"
     ],
     "language": "python",
     "metadata": {},
     "outputs": [],
     "prompt_number": 245
    },
    {
     "cell_type": "markdown",
     "metadata": {},
     "source": [
      "Next we write a function to implement the Euler method. Please note that Python can return multiple variables. Therefore, we are returning both variables x and y. These values are stored in r and s respectively."
     ]
    },
    {
     "cell_type": "code",
     "collapsed": false,
     "input": [
      "def euler(f,x0,x1,y0,h):\n",
      "    #Function to implement Euler's first order method\n",
      "    i=1\n",
      "    n=int((x1-x0)/h)+1     #Number of steps\n",
      "    x=np.linspace(x0,x1,n) #x vector\n",
      "    y=np.zeros(n)          #y vector\n",
      "    y[0]=y0                #initial condition\n",
      "    #Looping up to n remembering the array indices are from 0 to n-1\n",
      "    while (i<n):\n",
      "        y[i]=y[i-1]+h*f(x[i-1],y[i-1])\n",
      "        i+=1\n",
      "    return x,y"
     ],
     "language": "python",
     "metadata": {},
     "outputs": [],
     "prompt_number": 246
    },
    {
     "cell_type": "markdown",
     "metadata": {},
     "source": [
      "Calling the function euler,"
     ]
    },
    {
     "cell_type": "code",
     "collapsed": false,
     "input": [
      "r1,s1=euler(f,x0,x1,y0,h)"
     ],
     "language": "python",
     "metadata": {},
     "outputs": [],
     "prompt_number": 247
    },
    {
     "cell_type": "heading",
     "level": 2,
     "metadata": {},
     "source": [
      "Python Implementation of the Improved Euler Method"
     ]
    },
    {
     "cell_type": "code",
     "collapsed": false,
     "input": [
      "def euler2(f,x0,x1,y0,h):\n",
      "    #Function to implement Euler's first order method\n",
      "    i=1\n",
      "    n=int((x1-x0)/h)+1     #Number of steps\n",
      "    x=np.linspace(x0,x1,n) #x vector\n",
      "    y=np.zeros(n)          #y vector\n",
      "    y[0]=y0                #initial condition\n",
      "    #Looping up to n remembering the array indices are from 0 to n-1\n",
      "    while (i<n):\n",
      "        k1=h*f(x[i-1],y[i-1])\n",
      "        k2=h*f(x[i],y[i-1]+k1)\n",
      "        y[i]=y[i-1]+0.5*(k1+k2)\n",
      "        i+=1\n",
      "    return x,y"
     ],
     "language": "python",
     "metadata": {},
     "outputs": [],
     "prompt_number": 248
    },
    {
     "cell_type": "code",
     "collapsed": false,
     "input": [
      "r2,s2=euler2(f,x0,x1,y0,h)"
     ],
     "language": "python",
     "metadata": {},
     "outputs": [],
     "prompt_number": 249
    },
    {
     "cell_type": "markdown",
     "metadata": {},
     "source": [
      "The results of the differential equations can be better appreciated by plotting them on a graph. In a IPython notebook this can be achieved by using matplotlib inline as shown below."
     ]
    },
    {
     "cell_type": "code",
     "collapsed": false,
     "input": [
      "%matplotlib inline\n",
      "plt.plot(x,y)\n",
      "plt.title('Improved Euler Method')\n",
      "plt.grid(b=True, which='major', color='g', linestyle='--')"
     ],
     "language": "python",
     "metadata": {},
     "outputs": [
      {
       "ename": "NameError",
       "evalue": "name 'x' is not defined",
       "output_type": "pyerr",
       "traceback": [
        "\u001b[1;31m---------------------------------------------------------------------------\u001b[0m\n\u001b[1;31mNameError\u001b[0m                                 Traceback (most recent call last)",
        "\u001b[1;32m<ipython-input-250-585db9a23b32>\u001b[0m in \u001b[0;36m<module>\u001b[1;34m()\u001b[0m\n\u001b[0;32m      1\u001b[0m \u001b[0mget_ipython\u001b[0m\u001b[1;33m(\u001b[0m\u001b[1;33m)\u001b[0m\u001b[1;33m.\u001b[0m\u001b[0mmagic\u001b[0m\u001b[1;33m(\u001b[0m\u001b[1;34mu'matplotlib inline'\u001b[0m\u001b[1;33m)\u001b[0m\u001b[1;33m\u001b[0m\u001b[0m\n\u001b[1;32m----> 2\u001b[1;33m \u001b[0mplt\u001b[0m\u001b[1;33m.\u001b[0m\u001b[0mplot\u001b[0m\u001b[1;33m(\u001b[0m\u001b[0mx\u001b[0m\u001b[1;33m,\u001b[0m\u001b[0my\u001b[0m\u001b[1;33m)\u001b[0m\u001b[1;33m\u001b[0m\u001b[0m\n\u001b[0m\u001b[0;32m      3\u001b[0m \u001b[0mplt\u001b[0m\u001b[1;33m.\u001b[0m\u001b[0mtitle\u001b[0m\u001b[1;33m(\u001b[0m\u001b[1;34m'Improved Euler Method'\u001b[0m\u001b[1;33m)\u001b[0m\u001b[1;33m\u001b[0m\u001b[0m\n\u001b[0;32m      4\u001b[0m \u001b[0mplt\u001b[0m\u001b[1;33m.\u001b[0m\u001b[0mgrid\u001b[0m\u001b[1;33m(\u001b[0m\u001b[0mb\u001b[0m\u001b[1;33m=\u001b[0m\u001b[0mTrue\u001b[0m\u001b[1;33m,\u001b[0m \u001b[0mwhich\u001b[0m\u001b[1;33m=\u001b[0m\u001b[1;34m'major'\u001b[0m\u001b[1;33m,\u001b[0m \u001b[0mcolor\u001b[0m\u001b[1;33m=\u001b[0m\u001b[1;34m'g'\u001b[0m\u001b[1;33m,\u001b[0m \u001b[0mlinestyle\u001b[0m\u001b[1;33m=\u001b[0m\u001b[1;34m'--'\u001b[0m\u001b[1;33m)\u001b[0m\u001b[1;33m\u001b[0m\u001b[0m\n",
        "\u001b[1;31mNameError\u001b[0m: name 'x' is not defined"
       ]
      }
     ],
     "prompt_number": 250
    },
    {
     "cell_type": "heading",
     "level": 2,
     "metadata": {},
     "source": [
      "Python Implementation of Classical Runge-Kutta Method"
     ]
    },
    {
     "cell_type": "code",
     "collapsed": false,
     "input": [
      "def rk(f,x0,x1,y0,h):\n",
      "    #Function to implement Classical R-K Method for first order ODEs\n",
      "    i=1\n",
      "    n=int((x1-x0)/h)+1     #Number of steps\n",
      "    x=np.linspace(x0,x1,n) #x vector\n",
      "    y=np.zeros(n)          #y vector\n",
      "    y[0]=y0                #initial condition\n",
      "    #Looping up to n remembering the array indices are from 0 to n-1\n",
      "    while (i<n):\n",
      "        k1=h*f(x[i-1],y[i-1])\n",
      "        k2=h*f(x[i-1]+h/2,y[i-1]+k1/2)\n",
      "        k3=h*f(x[i-1]+h/2,y[i-1]+k2/2)\n",
      "        k4=h*f(x[i-1]+h,y[i-1]+k3)\n",
      "        y[i]=y[i-1]+(1./6.)*(k1+2*k2+2*k3+k4)\n",
      "        i+=1\n",
      "    return x,y"
     ],
     "language": "python",
     "metadata": {},
     "outputs": []
    },
    {
     "cell_type": "code",
     "collapsed": false,
     "input": [
      "r3,s3=rk(f,x0,x1,y0,h)"
     ],
     "language": "python",
     "metadata": {},
     "outputs": []
    },
    {
     "cell_type": "code",
     "collapsed": false,
     "input": [
      "%matplotlib inline\n",
      "plt.plot(r1,s1,'ro',r2,s2,'g^',r3,s3,'bs')\n",
      "plt.title('Result Comparison')\n",
      "plt.grid(b=True, which='major', color='g', linestyle='--')\n",
      "plt.xlabel('X-->')\n",
      "plt.ylabel('Y-->')"
     ],
     "language": "python",
     "metadata": {},
     "outputs": []
    },
    {
     "cell_type": "heading",
     "level": 1,
     "metadata": {},
     "source": [
      "Numerical Solution of System of First Order ODEs"
     ]
    },
    {
     "cell_type": "markdown",
     "metadata": {},
     "source": [
      "A system of first order ODEs can be solved by writing y and f as vectors instead of scalar functions. This method is useful for solving higher order ODEs. For example, a second order ODE can be converted into a system of two first-order ODEs. An example is considered below. Consider an initial value problem of a damped spring-mass system. The governing differential equation is as follows:\n",
      "\n",
      "$y'' + 2y' + 0.75y = 0$ with initial conditions $y(0)=3$ and $y'(0)=-2.5$\n",
      "\n",
      "Writing $y'_1=y_2$, the equation can be re-written as $y'_2=-2y_2-0.75y_1$ giving us a system of two first order ODEs with initial conditions re-cast in terms of $y_1$ and $y_2$ as $y(0)=y_1(0)=3$ and $y'(0)=y_2(0)=-2.5$\n",
      "\n",
      "Using Euler method, which can be written as, $y_{n+1}=y_n+hf(x_n,y_n)$ and remembering that y and f are vectors, the above system of equations can be written as follows:\n",
      "\n",
      "$y_{1,n+1}=y_{1,n}+hy_{2,n}$ and,\n",
      "\n",
      "$y_{2,n+1}=y_{2,n}+h(-2y_{2,n}-0.75y_{1,n})$"
     ]
    },
    {
     "cell_type": "code",
     "collapsed": false,
     "input": [
      "def f1(x,y1,y2):\n",
      "    #y'=f1(x,y1,y2)\n",
      "    #This function returns the value of f1 at x,y1,y2\n",
      "    return y2\n",
      "\n",
      "def f2(x,y1,y2):\n",
      "    #y'=f2(x,y1,y2)\n",
      "    #This function returns the value of f2 at x,y1,y2\n",
      "    return -2*y2-0.75*y1"
     ],
     "language": "python",
     "metadata": {},
     "outputs": []
    },
    {
     "cell_type": "code",
     "collapsed": false,
     "input": [
      "def eulersys(f1,f2,x0,xf,y1_0,y2_0,h):\n",
      "    #Function to implement Euler's first order method\n",
      "    i=1\n",
      "    n=int((xf-x0)/h)+1     #Number of steps\n",
      "    x=np.linspace(x0,xf,n) #x vector\n",
      "    y1=np.zeros(n)         #y1 vector\n",
      "    y2=np.zeros(n)         #y2 vector\n",
      "    y1[0]=y1_0             #initial condition for y1\n",
      "    y2[0]=y2_0             #initial condition for y2\n",
      "    #Looping up to n remembering the array indices are from 0 to n-1\n",
      "    while (i<n):\n",
      "        y1[i]=y1[i-1]+h*f1(x[i-1],y1[i-1],y2[i-1])\n",
      "        y2[i]=y2[i-1]+h*f2(x[i-1],y1[i-1],y2[i-1])\n",
      "        i+=1\n",
      "    return x,y1,y2"
     ],
     "language": "python",
     "metadata": {},
     "outputs": []
    },
    {
     "cell_type": "code",
     "collapsed": false,
     "input": [
      "#Initial conditions\n",
      "y1_0=3.0\n",
      "y2_0=-2.5\n",
      "\n",
      "#Domain\n",
      "x0=0.0\n",
      "xf=1.0\n",
      "\n",
      "#Step size\n",
      "h=0.2\n",
      "\n",
      "r4,s4,t4=eulersys(f1,f2,x0,xf,y1_0,y2_0,h)"
     ],
     "language": "python",
     "metadata": {},
     "outputs": []
    },
    {
     "cell_type": "code",
     "collapsed": false,
     "input": [
      "r4,s4,t4"
     ],
     "language": "python",
     "metadata": {},
     "outputs": [
      {
       "metadata": {},
       "output_type": "pyout",
       "prompt_number": 254,
       "text": [
        "(array([ 0. ,  0.2,  0.4,  0.6,  0.8,  1. ]),\n",
        " array([ 3.     ,  2.5    ,  2.11   ,  1.801  ,  1.5523 ,  1.34905]),\n",
        " array([-2.5     , -1.95    , -1.545   , -1.2435  , -1.01625 , -0.842595]))"
       ]
      }
     ],
     "prompt_number": 254
    },
    {
     "cell_type": "markdown",
     "metadata": {},
     "source": [
      "The above code for Euler's method for a system of first order ODEs is repeated below using vectors for initial conditions."
     ]
    },
    {
     "cell_type": "code",
     "collapsed": false,
     "input": [
      "m=2\n",
      "y0=[3.0,-2.5]\n",
      "g=[f1,f2]"
     ],
     "language": "python",
     "metadata": {},
     "outputs": []
    },
    {
     "cell_type": "code",
     "collapsed": false,
     "input": [
      "def eulersysmod(g,x0,xf,y0,h,m):\n",
      "    #Function to implement Euler's first order method\n",
      "    #g is a vector of m functions\n",
      "    #y0 is a vector of m initial conditions\n",
      "    #m is the order of ODE or the number of equations in the system\n",
      "    #\n",
      "    n=int((xf-x0)/h)+1     #Number of steps\n",
      "    #\n",
      "    x=np.linspace(x0,xf,n) #x vector\n",
      "    #\n",
      "    y=np.zeros((n,m))      #y is an array of shape nxm\n",
      "    #\n",
      "    for p in np.arange(0,m):\n",
      "        y[0,p]=y0[p]       #Setting up the initial conditions\n",
      "    #\n",
      "    i=1\n",
      "    #print q\n",
      "    #Looping up to n remembering the array indices are from 0 to n-1\n",
      "    while (i<n):\n",
      "        y[i,0]=y[i-1,0]+h*g[0](x[i-1],y[i-1,0],y[i-1,1])\n",
      "        y[i,1]=y[i-1,1]+h*g[1](x[i-1],y[i-1,0],y[i-1,1])\n",
      "        i+=1\n",
      "    return x,y"
     ],
     "language": "python",
     "metadata": {},
     "outputs": []
    },
    {
     "cell_type": "code",
     "collapsed": false,
     "input": [
      "r5,s5=eulersysmod(g,x0,xf,y0,h,m)"
     ],
     "language": "python",
     "metadata": {},
     "outputs": []
    },
    {
     "cell_type": "code",
     "collapsed": false,
     "input": [
      "r5,s5"
     ],
     "language": "python",
     "metadata": {},
     "outputs": []
    },
    {
     "cell_type": "markdown",
     "metadata": {},
     "source": [
      "\n",
      "Similarly, the Runge-Kutta method can be implemented for a system of equations."
     ]
    },
    {
     "cell_type": "code",
     "collapsed": false,
     "input": [
      "def rksys(g,x0,xf,y0,h,m):\n",
      "    #Function to implement Runge-Kutta method\n",
      "    #g is a vector of m functions\n",
      "    #y0 is a vector of m initial conditions\n",
      "    #m is the order of ODE or the number of equations in the system\n",
      "    #\n",
      "    n=int((xf-x0)/h)+1     #Number of steps\n",
      "    #\n",
      "    x=np.linspace(x0,xf,n) #x vector\n",
      "    #\n",
      "    y=np.zeros((n,m))      #y is an array of shape nxm\n",
      "    #\n",
      "    for p in np.arange(0,m):\n",
      "        y[0,p]=y0[p]       #Setting up the initial conditions\n",
      "    # Creating vectors for k1, k2, k3, k4 and k of size m\n",
      "    k1=np.zeros(m)\n",
      "    k2=np.zeros(m)\n",
      "    k3=np.zeros(m)\n",
      "    k4=np.zeros(m)\n",
      "    k=np.zeros(m)\n",
      "    #\n",
      "    i=1\n",
      "    #Looping up to n remembering the array indices are from 0 to n-1\n",
      "    while (i<n):\n",
      "        k1[0]=h*g[0](x[i-1],y[i-1,0],y[i-1,1])\n",
      "        k1[1]=h*g[1](x[i-1],y[i-1,0],y[i-1,1])\n",
      "        #\n",
      "        k2[0]=h*g[0](x[i-1]+h/2.,y[i-1,0]+k1[0]/2.,y[i-1,1]+k1[1]/2.)\n",
      "        k2[1]=h*g[1](x[i-1]+h/2.,y[i-1,0]+k1[0]/2.,y[i-1,1]+k1[1]/2.)\n",
      "        #\n",
      "        k3[0]=h*g[0](x[i-1]+h/2.,y[i-1,0]+k2[0]/2.,y[i-1,1]+k2[1]/2.)\n",
      "        k3[1]=h*g[1](x[i-1]+h/2.,y[i-1,0]+k2[0]/2.,y[i-1,1]+k2[1]/2.)\n",
      "        #\n",
      "        k4[0]=h*g[0](x[i-1]+h,y[i-1,0]+k3[0],y[i-1,1]+k3[1])\n",
      "        k4[1]=h*g[1](x[i-1]+h,y[i-1,0]+k3[0],y[i-1,1]+k3[1])\n",
      "        #\n",
      "        k[0]=(k1[0]+2*(k2[0]+k3[0])+k4[0])/6.\n",
      "        k[1]=(k1[1]+2*(k2[1]+k3[1])+k4[1])/6.\n",
      "        #\n",
      "        y[i,0]=y[i-1,0]+k[0]\n",
      "        y[i,1]=y[i-1,1]+k[1]\n",
      "        i+=1\n",
      "    return x,y"
     ],
     "language": "python",
     "metadata": {},
     "outputs": []
    },
    {
     "cell_type": "code",
     "collapsed": false,
     "input": [
      "r6,s6=rksys(g,x0,xf,y0,h,m)"
     ],
     "language": "python",
     "metadata": {},
     "outputs": []
    },
    {
     "cell_type": "code",
     "collapsed": false,
     "input": [
      "r6,s6"
     ],
     "language": "python",
     "metadata": {},
     "outputs": [
      {
       "metadata": {},
       "output_type": "pyout",
       "prompt_number": 251,
       "text": [
        "(array([ 0. ,  0.2,  0.4,  0.6,  0.8,  1. ]),\n",
        " array([[ 3.        , -2.5       ],\n",
        "        [ 2.5505125 , -2.01609375],\n",
        "        [ 2.186302  , -1.6419912 ],\n",
        "        [ 1.88823825, -1.35072053],\n",
        "        [ 1.64186614, -1.12215864],\n",
        "        [ 1.43622106, -0.94126973]]))"
       ]
      }
     ],
     "prompt_number": 251
    }
   ],
   "metadata": {}
  }
 ]
}
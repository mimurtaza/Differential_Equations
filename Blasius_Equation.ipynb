{
 "metadata": {
  "name": "",
  "signature": "sha256:92a09bd849c035f49e4bd58c8a5374e88d136f6cfd1933d51705e63ee0f98ab1"
 },
 "nbformat": 3,
 "nbformat_minor": 0,
 "worksheets": [
  {
   "cells": [
    {
     "cell_type": "heading",
     "level": 1,
     "metadata": {},
     "source": [
      "Blasius Equation"
     ]
    },
    {
     "cell_type": "markdown",
     "metadata": {},
     "source": [
      "Blasius equation describes a laminar boundary layer flow of a liquid over a flat plate. The equation is written as, $$f'''+\\frac{1}{2}ff''=0$$ subject to the following boundary conditions: $f(0)=0$, $f'(0)=0$ and $f''(0)=0$. This is a third order ordinary differential equation and can, therefore, be written as a system of three first order ODEs.\n",
      "\n",
      "Let $f'=g$ and $g'=h$. Therefore the given equation can be written as $h'+\\frac{1}{2}fh=0$ or $h'=-\\frac{1}{2}fh$. This gives us our three first order ordinary differential equations and three boundary condtions.\n"
     ]
    },
    {
     "cell_type": "code",
     "collapsed": false,
     "input": [
      "import numpy as np\n",
      "import matplotlib.pyplot as plt"
     ],
     "language": "python",
     "metadata": {},
     "outputs": [],
     "prompt_number": 139
    },
    {
     "cell_type": "code",
     "collapsed": false,
     "input": [
      "#Defining the functions fn(x, f, g, h).\n",
      "def f1(x,f,g,h):\n",
      "    return g\n",
      "\n",
      "def f2(x,f,g,h):\n",
      "    return h\n",
      "\n",
      "def f3(x,f,g,h):\n",
      "    return -0.5*f*h"
     ],
     "language": "python",
     "metadata": {},
     "outputs": [],
     "prompt_number": 140
    },
    {
     "cell_type": "code",
     "collapsed": false,
     "input": [
      "#Order of the ODE\n",
      "m=3\n",
      "\n",
      "#Domain\n",
      "x0=0.0\n",
      "xf=10.0\n",
      "\n",
      "#Step size\n",
      "h=0.05\n",
      "\n",
      "#Initial condition vector\n",
      "y0=[0.,0.,1.]\n",
      "\n",
      "#Function vector\n",
      "q=[f1,f2,f3]"
     ],
     "language": "python",
     "metadata": {},
     "outputs": [],
     "prompt_number": 141
    },
    {
     "cell_type": "code",
     "collapsed": false,
     "input": [
      "def rksys3(q,x0,xf,y0,h,m):\n",
      "    #Function to implement Runge-Kutta method\n",
      "    #g is a vector of m functions\n",
      "    #y0 is a vector of m initial conditions\n",
      "    #m is the order of ODE or the number of equations in the system\n",
      "    #\n",
      "    n=int((xf-x0)/h)+1     #Number of steps\n",
      "    #\n",
      "    x=np.linspace(x0,xf,n) #x vector\n",
      "    #\n",
      "    y=np.zeros((n,m))      #y is an array of shape nxm\n",
      "    #\n",
      "    for p in np.arange(0,m):\n",
      "        y[0,p]=y0[p]       #Setting up the initial conditions\n",
      "    # Creating vectors for k1, k2, k3, k4 and k of size m\n",
      "    k1=np.zeros(m)\n",
      "    k2=np.zeros(m)\n",
      "    k3=np.zeros(m)\n",
      "    k4=np.zeros(m)\n",
      "    k=np.zeros(m)\n",
      "    #\n",
      "    i=1\n",
      "    #Looping up to n remembering the array indices are from 0 to n-1\n",
      "    while (i<n):\n",
      "        k1[0]=h*q[0](x[i-1],y[i-1,0],y[i-1,1],y[i-1,2])\n",
      "        k1[1]=h*q[1](x[i-1],y[i-1,0],y[i-1,1],y[i-1,2])\n",
      "        k1[2]=h*q[2](x[i-1],y[i-1,0],y[i-1,1],y[i-1,2])\n",
      "        #\n",
      "        k2[0]=h*q[0](x[i-1]+h/2.,y[i-1,0]+k1[0]/2.,y[i-1,1]+k1[1]/2.,y[i-1,2]+k1[2]/2.)\n",
      "        k2[1]=h*q[1](x[i-1]+h/2.,y[i-1,0]+k1[0]/2.,y[i-1,1]+k1[1]/2.,y[i-1,2]+k1[2]/2.)\n",
      "        k2[2]=h*q[2](x[i-1]+h/2.,y[i-1,0]+k1[0]/2.,y[i-1,1]+k1[1]/2.,y[i-1,2]+k1[2]/2.)\n",
      "        #\n",
      "        k3[0]=h*q[0](x[i-1]+h/2.,y[i-1,0]+k2[0]/2.,y[i-1,1]+k2[1]/2.,y[i-1,2]+k2[2]/2.)\n",
      "        k3[1]=h*q[1](x[i-1]+h/2.,y[i-1,0]+k2[0]/2.,y[i-1,1]+k2[1]/2.,y[i-1,2]+k2[2]/2.)\n",
      "        k3[2]=h*q[2](x[i-1]+h/2.,y[i-1,0]+k2[0]/2.,y[i-1,1]+k2[1]/2.,y[i-1,2]+k2[2]/2.)\n",
      "        #\n",
      "        k4[0]=h*q[0](x[i-1]+h,y[i-1,0]+k3[0],y[i-1,1]+k3[1],y[i-1,2]+k3[2])\n",
      "        k4[1]=h*q[1](x[i-1]+h,y[i-1,0]+k3[0],y[i-1,1]+k3[1],y[i-1,2]+k3[2])\n",
      "        k4[2]=h*q[2](x[i-1]+h,y[i-1,0]+k3[0],y[i-1,1]+k3[1],y[i-1,2]+k3[2])\n",
      "        #\n",
      "        k[0]=(k1[0]+2*(k2[0]+k3[0])+k4[0])/6.\n",
      "        k[1]=(k1[1]+2*(k2[1]+k3[1])+k4[1])/6.\n",
      "        k[2]=(k1[2]+2*(k2[2]+k3[2])+k4[2])/6.\n",
      "        #\n",
      "        y[i,0]=y[i-1,0]+k[0]\n",
      "        y[i,1]=y[i-1,1]+k[1]\n",
      "        y[i,2]=y[i-1,2]+k[2]\n",
      "        #\n",
      "        i+=1\n",
      "    return x,y"
     ],
     "language": "python",
     "metadata": {},
     "outputs": [],
     "prompt_number": 142
    },
    {
     "cell_type": "code",
     "collapsed": false,
     "input": [
      "r,s=rksys3(q,x0,xf,y0,h,m)"
     ],
     "language": "python",
     "metadata": {},
     "outputs": [],
     "prompt_number": 143
    },
    {
     "cell_type": "code",
     "collapsed": false,
     "input": [
      "%matplotlib inline\n",
      "plt.plot(r,s[:,1])\n",
      "plt.title('Blasius Equation')\n",
      "plt.grid(b=True, which='major', color='g', linestyle='--')\n",
      "plt.ylabel('f\\'')\n",
      "plt.xlabel('x')"
     ],
     "language": "python",
     "metadata": {},
     "outputs": [
      {
       "metadata": {},
       "output_type": "pyout",
       "prompt_number": 148,
       "text": [
        "<matplotlib.text.Text at 0x8574030>"
       ]
      },
      {
       "metadata": {},
       "output_type": "display_data",
       "png": "[encoded data removed]",
       "text": [
        "<matplotlib.figure.Figure at 0x85c8650>"
       ]
      }
     ],
     "prompt_number": 148
    }
   ],
   "metadata": {}
  }
 ]
}
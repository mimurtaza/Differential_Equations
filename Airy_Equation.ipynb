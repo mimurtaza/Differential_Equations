{
 "metadata": {
  "name": "",
  "signature": "sha256:91027c25be6d10658b82c4d12248ff7d538c23c5b34064c95735b265e4fae11c"
 },
 "nbformat": 3,
 "nbformat_minor": 0,
 "worksheets": [
  {
   "cells": [
    {
     "cell_type": "heading",
     "level": 1,
     "metadata": {},
     "source": [
      "Airy Equation"
     ]
    },
    {
     "cell_type": "markdown",
     "metadata": {},
     "source": [
      "Airy function $A_i(x)$ is a special function, named after the English mathematician Sir George Bidell Airy (1801-1892), is a solution to the equation $y''=xy$ which is called Airy Equation. Originally it was an application in Optics that Airy was looking at. But the equation also finds use in astronomy and the Airy function is a solution of Schrodinger's equation for a confined particle (Wiki, Airy Equation)\n",
      "\n",
      "Problem: Solve the initial value problem\n",
      "\n",
      "$y''=xy$, $y(0)=0.35502805$, $y'(0)=-0.25881940$\n",
      "\n",
      "The problem is solved by using the rksys function developed before (ODEs.pynb)."
     ]
    },
    {
     "cell_type": "code",
     "collapsed": false,
     "input": [
      "import numpy as np\n",
      "import matplotlib.pyplot as plt"
     ],
     "language": "python",
     "metadata": {},
     "outputs": [],
     "prompt_number": 11
    },
    {
     "cell_type": "code",
     "collapsed": false,
     "input": [
      "def rksys(g,x0,xf,y0,h,m):\n",
      "    #Function to implement Runge-Kutta method\n",
      "    #g is a vector of m functions\n",
      "    #y0 is a vector of m initial conditions\n",
      "    #m is the order of ODE or the number of equations in the system\n",
      "    #\n",
      "    n=int((xf-x0)/h)+1     #Number of steps\n",
      "    #\n",
      "    x=np.linspace(x0,xf,n) #x vector\n",
      "    #\n",
      "    y=np.zeros((n,m))      #y is an array of shape nxm\n",
      "    #\n",
      "    for p in np.arange(0,m):\n",
      "        y[0,p]=y0[p]       #Setting up the initial conditions\n",
      "    # Creating vectors for k1, k2, k3, k4 and k of size m\n",
      "    k1=np.zeros(m)\n",
      "    k2=np.zeros(m)\n",
      "    k3=np.zeros(m)\n",
      "    k4=np.zeros(m)\n",
      "    k=np.zeros(m)\n",
      "    #\n",
      "    i=1\n",
      "    #Looping up to n remembering the array indices are from 0 to n-1\n",
      "    while (i<n):\n",
      "        k1[0]=h*g[0](x[i-1],y[i-1,0],y[i-1,1])\n",
      "        k1[1]=h*g[1](x[i-1],y[i-1,0],y[i-1,1])\n",
      "        #\n",
      "        k2[0]=h*g[0](x[i-1]+h/2.,y[i-1,0]+k1[0]/2.,y[i-1,1]+k1[1]/2.)\n",
      "        k2[1]=h*g[1](x[i-1]+h/2.,y[i-1,0]+k1[0]/2.,y[i-1,1]+k1[1]/2.)\n",
      "        #\n",
      "        k3[0]=h*g[0](x[i-1]+h/2.,y[i-1,0]+k2[0]/2.,y[i-1,1]+k2[1]/2.)\n",
      "        k3[1]=h*g[1](x[i-1]+h/2.,y[i-1,0]+k2[0]/2.,y[i-1,1]+k2[1]/2.)\n",
      "        #\n",
      "        k4[0]=h*g[0](x[i-1]+h,y[i-1,0]+k3[0],y[i-1,1]+k3[1])\n",
      "        k4[1]=h*g[1](x[i-1]+h,y[i-1,0]+k3[0],y[i-1,1]+k3[1])\n",
      "        #\n",
      "        k[0]=(k1[0]+2*(k2[0]+k3[0])+k4[0])/6.\n",
      "        k[1]=(k1[1]+2*(k2[1]+k3[1])+k4[1])/6.\n",
      "        #\n",
      "        y[i,0]=y[i-1,0]+k[0]\n",
      "        y[i,1]=y[i-1,1]+k[1]\n",
      "        i+=1\n",
      "    return x,y"
     ],
     "language": "python",
     "metadata": {},
     "outputs": [],
     "prompt_number": 12
    },
    {
     "cell_type": "code",
     "collapsed": false,
     "input": [
      "def f1(x,y1,y2):\n",
      "    #y'=f1(x,y1,y2)\n",
      "    #This function returns the value of f1 at x,y1,y2\n",
      "    return y2\n",
      "\n",
      "def f2(x,y1,y2):\n",
      "    #y'=f2(x,y1,y2)\n",
      "    #This function returns the value of f2 at x,y1,y2\n",
      "    return x*y1"
     ],
     "language": "python",
     "metadata": {},
     "outputs": [],
     "prompt_number": 13
    },
    {
     "cell_type": "code",
     "collapsed": false,
     "input": [
      "#Order of equation or number of first order equations in the system\n",
      "m=2\n",
      "\n",
      "#Domain\n",
      "x0=0.0\n",
      "xf=1.0\n",
      "\n",
      "#Step size\n",
      "h=0.2\n",
      "\n",
      "y0=[0.35502805,-0.25881940]\n",
      "g=[f1,f2]"
     ],
     "language": "python",
     "metadata": {},
     "outputs": [],
     "prompt_number": 14
    },
    {
     "cell_type": "code",
     "collapsed": false,
     "input": [
      "r,s=rksys(g,x0,xf,y0,h,m)"
     ],
     "language": "python",
     "metadata": {},
     "outputs": [],
     "prompt_number": 18
    },
    {
     "cell_type": "code",
     "collapsed": false,
     "input": [
      "r,s"
     ],
     "language": "python",
     "metadata": {},
     "outputs": [
      {
       "metadata": {},
       "output_type": "pyout",
       "prompt_number": 19,
       "text": [
        "(array([ 0. ,  0.2,  0.4,  0.6,  0.8,  1. ]),\n",
        " array([[ 0.35502805, -0.2588194 ],\n",
        "        [ 0.30370303, -0.25240464],\n",
        "        [ 0.25474211, -0.23583073],\n",
        "        [ 0.20979973, -0.21279185],\n",
        "        [ 0.16984596, -0.18641171],\n",
        "        [ 0.13529207, -0.15914687]]))"
       ]
      }
     ],
     "prompt_number": 19
    },
    {
     "cell_type": "markdown",
     "metadata": {},
     "source": [
      "The above result can be verified with the published exact solution given in Kreyszig, 9ed, Table 21.12."
     ]
    }
   ],
   "metadata": {}
  }
 ]
}
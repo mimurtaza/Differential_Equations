{
 "metadata": {
  "name": "",
  "signature": "sha256:24423398c1a111a1a91d5f50c57859ebdb1279a1ad6ec912193fc8203de9b501"
 },
 "nbformat": 3,
 "nbformat_minor": 0,
 "worksheets": [
  {
   "cells": [
    {
     "cell_type": "heading",
     "level": 1,
     "metadata": {},
     "source": [
      "Numerical Solution of First Order ODEs"
     ]
    },
    {
     "cell_type": "markdown",
     "metadata": {},
     "source": [
      "A first order ordinary differential equation is of the form $F(x,y,y\u2019)=0$ which can also be written as $y\u2019=f(x,y)$. The initial value problem for this equation is of the form\n",
      "\n",
      "$y\u2019=f(x,y), \ty(x_0)=y_0$"
     ]
    },
    {
     "cell_type": "heading",
     "level": 2,
     "metadata": {},
     "source": [
      "Euler Method"
     ]
    },
    {
     "cell_type": "markdown",
     "metadata": {},
     "source": [
      "The first method of solving this equation, Euler method or the Euler-Cauchy method, is based on the Taylor series. It is a crude method that approximates the curve of y(x) by a line tangent to the curve at $x_0$. \n",
      "\n",
      "$y(x+h) = y(x) + hy\u2019(x) + \\frac{1}{2} h^2 y\u2019\u2019(\\zeta)$\n",
      "\n",
      "where $x\\leq\\zeta\\leq (x+h)$.\n",
      "\n",
      "Therefore the local truncation error, i.e. error in each step is of the order, $O(h^2)$. The number of steps required is proportional to $\\frac{1}{h}$. Therefore, the global error is proportional to h. Therefore, this is a first-order method."
     ]
    },
    {
     "cell_type": "heading",
     "level": 2,
     "metadata": {},
     "source": [
      "Improved Euler Method"
     ]
    },
    {
     "cell_type": "markdown",
     "metadata": {},
     "source": [
      "The method can be improved by taking into account higher order terms. But then this requires calculation of higher order derivatives which is numerically cumbersome. Therefore, a predictor-corrector approach is used. This means that a predictive value is calculated first as:\n",
      "\n",
      "$y^*_{n+1} = y_n + hf(x_n,y_n)$\n",
      "\n",
      "Then a new corrective value is calculated as:\n",
      "\n",
      "$y_{n+1}=y_n + \\frac{1}{2}h[f(x_n,y_n)+f(x_n+1,y^*_n+1)]$\n",
      "\n",
      "The local error of the improved Euler method is $h^3$ and the global error is of the order $h^2$, so the method is a second-order method. The improved Euler method is also called Heun method."
     ]
    },
    {
     "cell_type": "heading",
     "level": 2,
     "metadata": {},
     "source": [
      "Classical Runge-Kutta Method"
     ]
    },
    {
     "cell_type": "markdown",
     "metadata": {},
     "source": [
      "Practically Euler methods are not used due to low accuracy and precision. Instead the classical Runge-Kutta method of the fourth order is a popular choice. The method is named after German mathematicians Karl Runge and Wilhelm Kutta. It involves calculating four auxiliary k's before calculating y.\n",
      "\n",
      "$k_1=hf(x_n,y_n)$\n",
      "\n",
      "$k_2=hf(x_n + \\frac{h}{2} , y_n + \\frac{k_1}{2})$\n",
      "\n",
      "$k_3=hf(x_n + \\frac{h}{2} , y_n + \\frac{k_1}{2})$\n",
      "\n",
      "$k_4=hf(x_n + h , y_n + k_3)$\n",
      "\n",
      "$x_{n+1}=x_n + h$\n",
      "\n",
      "$y_{n+1}=y_n+\\frac{1}{6}(k_1+2k_2+2k_3+k_4)$"
     ]
    },
    {
     "cell_type": "heading",
     "level": 2,
     "metadata": {},
     "source": [
      "Python Implementation of Euler Method"
     ]
    },
    {
     "cell_type": "markdown",
     "metadata": {},
     "source": [
      "Initial Value Problem\n",
      "\n",
      "$y'=x+y, y(0)=0$\n",
      "\n",
      "Solve the equation in the domain $0\\leq x \\leq 1$"
     ]
    },
    {
     "cell_type": "code",
     "collapsed": false,
     "input": [
      "import numpy as np\n",
      "import matplotlib.pyplot as plt\n",
      "\n",
      "h=0.1                  #Step Size\n",
      "x0=0.                  #Initial value of x\n",
      "x1=1.                  #Final value of x\n",
      "n=int((x1-x0)/h)+1     #Number of steps\n",
      "x=np.linspace(0,1,n)   #x vector\n",
      "y=np.zeros(n)          #y vector\n",
      "y0=0.                  #initial condition"
     ],
     "language": "python",
     "metadata": {},
     "outputs": [],
     "prompt_number": 1
    },
    {
     "cell_type": "markdown",
     "metadata": {},
     "source": [
      "First of all we need the numpy library for function linspace that creates a vector of x between $x_0$ and $x_1$ with step size h. Then the required parameters are defined. We need a Python function to define f."
     ]
    },
    {
     "cell_type": "code",
     "collapsed": false,
     "input": [
      "def f(x,y):\n",
      "    #y'=f(x,y)\n",
      "    #This function returns the value of f at x,y\n",
      "    return x+y"
     ],
     "language": "python",
     "metadata": {},
     "outputs": [],
     "prompt_number": 2
    },
    {
     "cell_type": "markdown",
     "metadata": {},
     "source": [
      "Next we write a function to implement the Euler method."
     ]
    },
    {
     "cell_type": "code",
     "collapsed": false,
     "input": [
      "def euler(f,y0,n):\n",
      "    #Function to implement Euler's first order method\n",
      "    i=1\n",
      "    #Looping up to n remembering the array indices are from 0 to n-1\n",
      "    while (i<n):\n",
      "        y[i]=y[i-1]+h*f(x[i-1],y[i-1])\n",
      "        i+=1"
     ],
     "language": "python",
     "metadata": {},
     "outputs": [],
     "prompt_number": 3
    },
    {
     "cell_type": "markdown",
     "metadata": {},
     "source": [
      "Calling the function euler,"
     ]
    },
    {
     "cell_type": "code",
     "collapsed": false,
     "input": [
      "euler(f,y0,n)"
     ],
     "language": "python",
     "metadata": {},
     "outputs": [],
     "prompt_number": 4
    },
    {
     "cell_type": "code",
     "collapsed": false,
     "input": [
      "y"
     ],
     "language": "python",
     "metadata": {},
     "outputs": [
      {
       "metadata": {},
       "output_type": "pyout",
       "prompt_number": 5,
       "text": [
        "array([ 0.        ,  0.        ,  0.01      ,  0.031     ,  0.0641    ,\n",
        "        0.11051   ,  0.171561  ,  0.2487171 ,  0.34358881,  0.45794769,\n",
        "        0.59374246])"
       ]
      }
     ],
     "prompt_number": 5
    },
    {
     "cell_type": "heading",
     "level": 2,
     "metadata": {},
     "source": [
      "Python Implementation of the Improved Euler Method"
     ]
    },
    {
     "cell_type": "code",
     "collapsed": false,
     "input": [
      "def euler2(f,y0,n):\n",
      "    #Function to implement Euler's first order method\n",
      "    i=1\n",
      "    #Looping up to n remembering the array indices are from 0 to n-1\n",
      "    while (i<n):\n",
      "        k1=h*f(x[i-1],y[i-1])\n",
      "        k2=h*f(x[i],y[i-1]+k1)\n",
      "        y[i]=y[i-1]+0.5*(k1+k2)\n",
      "        i+=1"
     ],
     "language": "python",
     "metadata": {},
     "outputs": [],
     "prompt_number": 6
    },
    {
     "cell_type": "code",
     "collapsed": false,
     "input": [
      "euler2(f,y0,n)"
     ],
     "language": "python",
     "metadata": {},
     "outputs": [],
     "prompt_number": 7
    },
    {
     "cell_type": "code",
     "collapsed": false,
     "input": [
      "y"
     ],
     "language": "python",
     "metadata": {},
     "outputs": [
      {
       "metadata": {},
       "output_type": "pyout",
       "prompt_number": 8,
       "text": [
        "array([ 0.        ,  0.005     ,  0.021025  ,  0.04923263,  0.09090205,\n",
        "        0.14744677,  0.22042868,  0.31157369,  0.42278892,  0.55618176,\n",
        "        0.71408085])"
       ]
      }
     ],
     "prompt_number": 8
    },
    {
     "cell_type": "markdown",
     "metadata": {},
     "source": [
      "The results of the differential equations can be better appreciated by plotting them on a graph. In a IPython notebook this can be achieved by using matplotlib inline as shown below."
     ]
    },
    {
     "cell_type": "code",
     "collapsed": false,
     "input": [
      "%matplotlib inline\n",
      "plt.plot(x,y)\n",
      "plt.title('Improved Euler Method')\n",
      "plt.grid(b=True, which='major', color='g', linestyle='--')"
     ],
     "language": "python",
     "metadata": {},
     "outputs": [
      {
       "metadata": {},
       "output_type": "display_data",
       "png": "[encoded data removed]",
       "text": [
        "<matplotlib.figure.Figure at 0x835e650>"
       ]
      }
     ],
     "prompt_number": 18
    },
    {
     "cell_type": "code",
     "collapsed": false,
     "input": [],
     "language": "python",
     "metadata": {},
     "outputs": []
    }
   ],
   "metadata": {}
  }
 ]
}